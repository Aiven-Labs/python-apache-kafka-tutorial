{
 "cells": [
  {
   "cell_type": "markdown",
   "metadata": {},
   "source": [
    "# Working with Partitioned Topics\n",
    "\n",
    "In the previous notebooks, we worked with a single topic where all the information was consumed by the consumer.\n",
    "\n",
    "You can have several topics to make better sense of your data. What if you have similar data but you are only concerned with part of it. In that case you can partition parts of the data to narrow concerns.\n",
    "\n",
    "## An example\n",
    "\n",
    "Our resturaunt has expanded into two shops (one store front and a pizza truck). We can use particians to track orders between the two with our store being partition `0` and the truck partition `1`.\n",
    "\n",
    "![Produce messages to an Apache Kafka Topic partitioned](../img/produce-partition.png)\n",
    "\n",
    "---\n",
    "\n",
    "## Create a partitioned topic\n",
    "\n",
    "_If you haven't already created and setup your virtual environment, follow the steps from [0-setup.ipynb](0-setup.ipynb)_. You DO NOT need to create the `pizzas` topic.\n",
    "\n",
    "Let's create a new topic called `pizzaPartitioned` (REMEMBER topics are _case-sensitive_).\n",
    "- Select the option **Do you want to enable advanced configuration?**\n",
    "- Change the value of **Partitions** to `2`\n",
    "- Select **Create Topic**\n",
    "\n"
   ]
  },
  {
   "cell_type": "markdown",
   "metadata": {},
   "source": [
    "## Create an Apache Kafka producer\n",
    "\n",
    "Like before let's create a Kafka producer."
   ]
  },
  {
   "cell_type": "code",
   "execution_count": 4,
   "metadata": {},
   "outputs": [],
   "source": [
    "import os\n",
    "import json\n",
    "\n",
    "from dotenv import load_dotenv\n",
    "from confluent_kafka import SerializingProducer\n",
    "\n",
    "load_dotenv()\n",
    "\n",
    "def json_serializer(msg, s_obj):\n",
    "    return json.dumps(msg).encode('ascii')\n",
    "\n",
    "KAFKA_SERVICE_URI = os.getenv(\"KAFKA_SERVICE_URI\")\n",
    "\n",
    "conf = {\n",
    "    'bootstrap.servers': KAFKA_SERVICE_URI,\n",
    "    'client.id': 'myclient',\n",
    "    'security.protocol': 'SSL',\n",
    "    'ssl.ca.location': '../sslcerts/ca.pem',\n",
    "    'ssl.certificate.location': '../sslcerts/service.cert',\n",
    "    'ssl.key.location': '../sslcerts/service.key', \n",
    "    'value.serializer': json_serializer,\n",
    "    'key.serializer': json_serializer\n",
    "    }\n",
    "\n",
    "producer = SerializingProducer(conf)"
   ]
  },
  {
   "cell_type": "markdown",
   "metadata": {},
   "source": [
    "## Push the messages to the two partitions in the `PizzaPartitioned` topic\n",
    "\n",
    "A producer can define a partition upfront by either declaring the partition or using a custom partitioner."
   ]
  },
  {
   "cell_type": "code",
   "execution_count": 51,
   "metadata": {},
   "outputs": [
    {
     "data": {
      "text/plain": [
       "0"
      ]
     },
     "execution_count": 51,
     "metadata": {},
     "output_type": "execute_result"
    },
    {
     "name": "stderr",
     "output_type": "stream",
     "text": [
      "%6|1710252215.517|FAIL|myclient#producer-2| [thrd:ssl://34.118.134.124:14181/2]: ssl://34.118.134.124:14181/2: Disconnected (after 2399861ms in state UP, 1 identical error(s) suppressed)\n",
      "%6|1710252354.032|FAIL|myclient#producer-1| [thrd:ssl://35.203.9.32:14181/3]: ssl://35.203.9.32:14181/3: Disconnected (after 2699780ms in state UP, 1 identical error(s) suppressed)\n"
     ]
    }
   ],
   "source": [
    "producer.produce(\n",
    "    \"pizzaPartitioned\",\n",
    "    key={\"id\":1},\n",
    "    value={\"id\":1, \"name\":\"👨 Francesco\", \"pizza\":\"Margherita 🍕\"},\n",
    "    partition=0\n",
    ")\n",
    "\n",
    "producer.produce(\n",
    "    \"pizzaPartitioned\",\n",
    "    key={\"id\":2},\n",
    "    value={\"id\":2, \"name\":\"👩 Adele\", \"pizza\":\"Hawaii 🍕+🍍+🥓\"},\n",
    "    partition=1\n",
    ")\n",
    "\n",
    "producer.flush()"
   ]
  }
 ],
 "metadata": {
  "kernelspec": {
   "display_name": "Python 3 (ipykernel)",
   "language": "python",
   "name": "python3"
  },
  "language_info": {
   "codemirror_mode": {
    "name": "ipython",
    "version": 3
   },
   "file_extension": ".py",
   "mimetype": "text/x-python",
   "name": "python",
   "nbconvert_exporter": "python",
   "pygments_lexer": "ipython3",
   "version": "3.12.2"
  }
 },
 "nbformat": 4,
 "nbformat_minor": 4
}
