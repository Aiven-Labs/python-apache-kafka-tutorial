{
 "cells": [
  {
   "cell_type": "markdown",
   "metadata": {},
   "source": [
    "# Congratulations\n",
    " \n",
    "You've setup a Kafka cluster, and produced and consumed messages.\n",
    "\n",
    "You also learned to filter your consumputions using partitions, consumption-groups, and Apache Flink.\n",
    "\n",
    "## Shut Down Your Services\n",
    "\n",
    "To make sure that you aren't are"
   ]
  }
 ],
 "metadata": {
  "language_info": {
   "name": "python"
  }
 },
 "nbformat": 4,
 "nbformat_minor": 2
}
