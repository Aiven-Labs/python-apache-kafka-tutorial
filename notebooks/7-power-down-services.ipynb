{
 "cells": [
  {
   "cell_type": "markdown",
   "metadata": {},
   "source": [
    "# Congratulations\n",
    " \n",
    "You've setup a Kafka cluster, and produced and consumed messages.\n",
    "\n",
    "You also learned to filter your consumputions using partitions, consumption-groups, and Apache Flink.\n",
    "\n",
    "## Shut Down Your Services\n",
    "\n",
    "To make sure that you aren't burning through your trial we should shut down our services.\n",
    "\n",
    "1. In the Aiven Console, visit the services section of your created project.\n",
    "2. For each service select the action icon and select \"Power off service\"\n",
    "\n",
    "![Power Off Services](../img/console_power_off_service.png)"
   ]
  }
 ],
 "metadata": {
  "language_info": {
   "name": "python"
  }
 },
 "nbformat": 4,
 "nbformat_minor": 2
}
