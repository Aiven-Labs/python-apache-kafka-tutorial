{
 "cells": [
  {
   "cell_type": "markdown",
   "metadata": {},
   "source": [
    "# Getting Started with this Workshop\n",
    "\n",
    "In this workshop we will use Aiven for Apache Kafka® to deploy and manage our Apache Kafka® Service.\n",
    "\n",
    "We'll also be using this notebook environment. By the end of this notebook, you will have:\n",
    "\n",
    "- Created an Aiven Account\n",
    "- Created a Aiven for Apache Kafka® service\n",
    "- Downloaded your needed ssl certificates\n",
    "- Setup your developer environment"
   ]
  },
  {
   "cell_type": "markdown",
   "metadata": {},
   "source": [
    "## Your Developer Environment\n",
    "\n",
    "Let's turn to our repo. We need to make sure we have all the tools needed for this workshop.\n",
    "\n",
    "You have a few options that we recommend.\n",
    "\n",
    "### GitHub Codespaces\n",
    "\n",
    "The easiest is GitHub Codespaces. This is a cloud driven environment provided by GitHub that you can use to ensure you can follow along.\n",
    "\n",
    "GitHub provides 40 hours of codespaces available to you for free every month.\n",
    "\n",
    "You will also have all of the python requirements installed for you making it easier to get started.\n",
    "\n",
    "To use GitHub Codespaces, select the badge below.\n",
    "\n",
    "> ⚠ If you are already in a codespace please skip this step\n",
    "\n",
    "[![Open in GitHub Codespaces](https://github.com/codespaces/badge.svg)](https://codespaces.new/aiven-labs/python-apache-kafka-tutorial)\n",
    "\n",
    "### GitPod\n",
    "\n",
    "Similar to Codespaces, GitPod is a service you can use to deploy a prepared environment making it easy to get started.\n",
    "\n",
    "To use GitPod, select the badge below and create a gitpod account.\n",
    "\n",
    "[![Open in Gitpod](https://gitpod.io/button/open-in-gitpod.svg)](https://gitpod.io/#https://github.com/Aiven-Labs/python-apache-kafka-tutorial)\n",
    "\n",
    "Once the environment is loaded, you will need to install your python requirements\n",
    "\n"
   ]
  },
  {
   "cell_type": "markdown",
   "metadata": {},
   "source": [
    "## Create an Aiven Account\n",
    "\n",
    "If you don't have an Aiven Account, you can create it with [Aiven](https://go.aiven.io/ft-signup-kafka-python), using the free trial. \n",
    "\n",
    "### Create an Apache Kafka cluster with Aiven\n",
    "\n",
    "Next we'll create our Apache Kafka Cluster:\n",
    "\n",
    "* Open the [Aiven Console](https://console.aiven.io)\n",
    "* Click on **Create service**\n",
    "* Select **Apache Kafka**\n",
    "* Select the cloud vendor and region of your choice\n",
    "* Select a **Business-4** plan would be enough\n",
    "* Click on **Create service**\n",
    "\n",
    "After a couple of minutes, the Aiven for Apache Kafka service will be ready to use.\n",
    "\n",
    "### Download the required SSL certificates\n",
    "\n",
    "The SSL certificates are used to securely connect the Python clients and the Apache Kafka cluster. To download them:\n",
    "\n",
    "* In the [Aiven Console](https://console.aiven.io), navigate to the Aiven for Apache Kafka cluster created\n",
    "* Download the:\n",
    "    * Access Key\n",
    "    * Access Certificate\n",
    "    * CA Certificate\n",
    "\n",
    "![Download Certificates](../img/download-certificates.png)\n",
    "\n",
    "Once downloaded the certificates, you can move them in the [sslcerts](sslcerts) folder.\n"
   ]
  },
  {
   "cell_type": "markdown",
   "metadata": {},
   "source": [
    "## Copy the **Service URI** into a `.env` file\n",
    "\n",
    "This is how our notebooks will connect to our environment.\n",
    "\n",
    "Copy the **SERVICE_URI** from the **Connection Information**\n",
    "\n",
    "![SERVICE_URI](../img/kafka-service-uri.png)\n",
    "\n",
    "Replace <KAFKA_SERVICE_URI> in the block below and run the block to create your .env file"
   ]
  },
  {
   "cell_type": "code",
   "execution_count": 10,
   "metadata": {
    "vscode": {
     "languageId": "shellscript"
    }
   },
   "outputs": [],
   "source": [
    "!echo KAFKA_SERVICE_URI=kafka-1735e62e-nyclivetest.a.aivencloud.com:12488 > .env"
   ]
  },
  {
   "cell_type": "markdown",
   "metadata": {},
   "source": [
    "## Create your `pizzas` Topic\n",
    "\n",
    "Apache Kafka® stores messages in groups called Topics. You can have many topics in any one Kafka cluster.\n",
    "\n",
    "We're going to create our topic in the Aiven Console.\n",
    "\n",
    "* In your created Kafka Service, select _Topics_ in the side menu.\n",
    "* Click the **Create Topic** button\n",
    "* Enter `pizzas` and select the **Create Topic** Button\n",
    "\n",
    "> ! NOTE\n",
    "> Your topic is case sensitive so `pizzas` is different than `Pizzas`"
   ]
  },
  {
   "cell_type": "code",
   "execution_count": null,
   "metadata": {
    "vscode": {
     "languageId": "shellscript"
    }
   },
   "outputs": [],
   "source": [
    "python -m pip3 install --user -r requirements.txt"
   ]
  },
  {
   "cell_type": "markdown",
   "metadata": {},
   "source": [
    "You are now ready to move to the next notebook - [_Producing Messages with Python_](1-produce.ipynb)"
   ]
  }
 ],
 "metadata": {
  "kernelspec": {
   "display_name": "Python 3",
   "language": "python",
   "name": "python3"
  },
  "language_info": {
   "codemirror_mode": {
    "name": "ipython",
    "version": 3
   },
   "file_extension": ".py",
   "mimetype": "text/x-python",
   "name": "python",
   "nbconvert_exporter": "python",
   "pygments_lexer": "ipython3",
   "version": "3.12.2"
  }
 },
 "nbformat": 4,
 "nbformat_minor": 2
}
