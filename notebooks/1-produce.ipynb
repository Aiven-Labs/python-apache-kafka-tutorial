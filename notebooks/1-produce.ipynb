{
 "cells": [
  {
   "cell_type": "markdown",
   "metadata": {},
   "source": [
    "# Part 1 - Produce messages to an Apache Kafka topic\n",
    "\n",
    "In this notebook you will learn how to produce messages to an Apache Kafka topic\n",
    "\n",
    "![Produce messages to an Apache Kafka Topic](../img/produce.png)\n",
    "\n",
    "---\n",
    "\n",
    "## Prerequisites\n",
    "\n",
    "To start the tutorial you need to:\n",
    "\n",
    "* Download the Aiven for Apache Kafka SSL certificates as mentioned in the [README instructions](../README.md#Download-the-required-SSL-certificates)\n",
    "* Retrieve the Aiven for Apache Kafka hostname and port, from the [Aiven Console](https://console.aiven.io/) in the Aiven for Apache Kafka service overview\n",
    "* Substitute the Apache Kafka hostname and port in the parameters below"
   ]
  },
  {
   "cell_type": "markdown",
   "metadata": {},
   "source": [
    "\n",
    "\n",
    "## Create an Apache Kafka producer\n",
    "\n",
    "The next step is to configure the Kafka producer this is the object that will send messages to our `pizzas` topic.\n",
    "\n",
    "### BEFORE WE RUN THE SCRIPT LET's Prepare our Kafka Cluster to receive our messages\n",
    "\n",
    "This is done using the **Apache Kafka REST API** (Karapace) in our Aiven console.\n",
    "\n",
    "* In the Aiven Console for our project, select the **Topics** section in the sidebar.\n",
    "* Select our `Pizzas` topic\n",
    "* Select **Messages**\n",
    "* When prompted to **Enabling Apache Kafka REST**, select **Enable**"
   ]
  },
  {
   "cell_type": "markdown",
   "metadata": {},
   "source": [
    "## Push your first message to the `pizzas` topic\n",
    "\n",
    "Now that we've created our producer, we can send a message our first message to the `pizzas` topic using the `producer.produce()` method.\n",
    "\n",
    "We're going to send a Python dictionary that is serialized into JSON by the producer. This message will have the `id` of the message, the `name` of our individual and the `pizza` that individual likes.\n",
    "\n",
    "Now run the code block below."
   ]
  },
  {
   "cell_type": "code",
   "execution_count": null,
   "metadata": {},
   "outputs": [],
   "source": [
    "# Import python modules to be used in the script\n",
    "import json\n",
    "import os\n",
    "from dotenv import load_dotenv\n",
    "from confluent_kafka import SerializingProducer\n",
    "\n",
    "# Load environment variables and assign them to variables\n",
    "load_dotenv()\n",
    "\n",
    "KAFKA_SERVICE_URI = os.getenv('KAFKA_SERVICE_URI')\n",
    "\n",
    "# Define a function to serialize the message to be sent to the Kafka topic\n",
    "def json_serializer(msg, s_obj):\n",
    "    return json.dumps(msg).encode('ascii')\n",
    "\n",
    "# Define the configuration for the Kafka producer and create the producer object   \n",
    "conf = {\n",
    "    'bootstrap.servers': KAFKA_SERVICE_URI,\n",
    "    'client.id': 'myclient',\n",
    "    'security.protocol': 'SSL',\n",
    "    'ssl.ca.location': '../sslcerts/ca.pem',\n",
    "    'ssl.certificate.location': '../sslcerts/service.cert',\n",
    "    'ssl.key.location': '../sslcerts/service.key', \n",
    "    'value.serializer': json_serializer,\n",
    "    'key.serializer': json_serializer\n",
    "    }\n",
    "\n",
    "producer = SerializingProducer(conf)\n",
    "\n",
    "# Send the first message to the Kafka topic\n",
    "producer.produce(\n",
    "    \"pizzas\",\n",
    "    key={\"id\":1},\n",
    "    value={\"id\":1, \"name\":\"👨 Francesco\", \"pizza\":\"Margherita 🍕\"}\n",
    ")\n",
    "\n",
    "producer.flush() # ensures the message is sent to our Kafka Cluster"
   ]
  },
  {
   "cell_type": "markdown",
   "metadata": {},
   "source": [
    "---\n",
    "\n",
    "## Your Turn! Produce more messages\n",
    "\n",
    "Try creating your own topics. Make sure that you increment the key and id\n"
   ]
  },
  {
   "cell_type": "code",
   "execution_count": null,
   "metadata": {},
   "outputs": [],
   "source": [
    "producer.produce(\n",
    "    \"pizzas\",\n",
    "    key={\"id\":2},\n",
    "    value={\"id\":2, \"name\":\"👩 Adele\", \"pizza\":\"Hawaii 🍕+🍍+🥓\"}\n",
    ")\n",
    "\n",
    "producer.produce(\n",
    "    \"pizzas\",\n",
    "    key={\"id\":3},\n",
    "    value={\"id\":3, \"name\":\"👦 Mark\", \"pizza\":\"Choccolate 🍕+🍫\"}\n",
    ")\n",
    "\n",
    "producer.flush()"
   ]
  },
  {
   "cell_type": "markdown",
   "metadata": {},
   "source": [
    "## Great Work! 🥳\n",
    "\n",
    "Let's move onto [Consuming our Topics](./2-consume.ipynb)"
   ]
  }
 ],
 "metadata": {
  "kernelspec": {
   "display_name": "Python 3 (ipykernel)",
   "language": "python",
   "name": "python3"
  },
  "language_info": {
   "codemirror_mode": {
    "name": "ipython",
    "version": 3
   },
   "file_extension": ".py",
   "mimetype": "text/x-python",
   "name": "python",
   "nbconvert_exporter": "python",
   "pygments_lexer": "ipython3",
   "version": "3.12.2"
  }
 },
 "nbformat": 4,
 "nbformat_minor": 4
}
