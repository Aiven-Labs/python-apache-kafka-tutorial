{
 "cells": [
  {
   "cell_type": "markdown",
   "metadata": {},
   "source": [
    "# Produce messages to an Apache Kafka topic\n",
    "\n",
    "In this notebook you will learn how to produce messages to an Apache Kafka topic\n",
    "\n",
    "![Produce messages to an Apache Kafka Topic](../img/produce.png)\n",
    "\n",
    "---\n",
    "\n",
    "## Prerequisites\n",
    "\n",
    "To start the tutorial you need to:\n",
    "\n",
    "* Download the Aiven for Apache Kafka SSL certificates as mentioned in the [README instructions](../README.md#Download-the-required-SSL-certificates)\n",
    "* Retrieve the Aiven for Apache Kafka hostname and port, from the [Aiven Console](https://console.aiven.io/) in the Aiven for Apache Kafka service overview\n",
    "* Substitute the Apache Kafka hostname and port in the parameters below"
   ]
  },
  {
   "cell_type": "code",
   "execution_count": null,
   "metadata": {},
   "outputs": [],
   "source": [
    "# Replace the following two placeholders with Aiven for Apache Kafka service hostname and port\n",
    "\n",
    "hostname=\"<MYKAFKAHOST>\"\n",
    "port=\"<MYKAFKAPORT>\""
   ]
  },
  {
   "cell_type": "markdown",
   "metadata": {},
   "source": [
    "---\n",
    "\n",
    "### Install the required libraries\n",
    "\n",
    "The following installs the [kafka-python library](https://kafka-python.readthedocs.io/en/master/) we'll use for the tutorial"
   ]
  },
  {
   "cell_type": "code",
   "execution_count": null,
   "metadata": {},
   "outputs": [],
   "source": [
    "!pip install confluent-kafka"
   ]
  },
  {
   "cell_type": "markdown",
   "metadata": {},
   "source": [
    "---\n",
    "\n",
    "## Create an Apache Kafka producer\n",
    "\n",
    "The next step is to configure the Kafka producer."
   ]
  },
  {
   "cell_type": "code",
   "execution_count": null,
   "metadata": {},
   "outputs": [],
   "source": [
    "import json\n",
    "from confluent_kafka import SerializingProducer\n",
    "\n",
    "def json_serializer(msg, s_obj):\n",
    "    return json.dumps(msg).encode('ascii')\n",
    "\n",
    "conf = {\n",
    "    'bootstrap.servers': hostname+\":\"+port,\n",
    "    'client.id': 'myclient',\n",
    "    'security.protocol': 'SSL',\n",
    "    'ssl.ca.location': '../sslcerts/ca.pem',\n",
    "    'ssl.certificate.location': '../sslcerts/service.cert',\n",
    "    'ssl.key.location': '../sslcerts/service.key', \n",
    "    'value.serializer': json_serializer,\n",
    "    'key.serializer': json_serializer\n",
    "    }\n",
    "\n",
    "producer = SerializingProducer(conf)"
   ]
  },
  {
   "cell_type": "markdown",
   "metadata": {},
   "source": [
    "---\n",
    "## Push your first message to the `pizzas` topic\n",
    "\n",
    "In the below section we're pushing the first message to the `pizzas` topic.\n",
    "\n",
    "> Note that we're producing data to a topic named `pizzas`, you need to have the topic created beforehand in Apache Kafka or the `kafka.auto_create_topics_enable` parameter enabled\n",
    "\n",
    "The `flush` function ensures that the message is sent to Kafka"
   ]
  },
  {
   "cell_type": "code",
   "execution_count": null,
   "metadata": {},
   "outputs": [],
   "source": [
    "producer.produce(\n",
    "    \"pizzas\",\n",
    "    key={\"id\":1},\n",
    "    value={\"id\":1, \"name\":\"👨 Francesco\", \"pizza\":\"Margherita 🍕\"}\n",
    ")\n",
    "\n",
    "producer.flush()"
   ]
  },
  {
   "cell_type": "markdown",
   "metadata": {},
   "source": [
    "---\n",
    "\n",
    "## Produce more messages\n",
    "\n"
   ]
  },
  {
   "cell_type": "code",
   "execution_count": null,
   "metadata": {},
   "outputs": [],
   "source": [
    "producer.produce(\n",
    "    \"pizzas\",\n",
    "    key={\"id\":2},\n",
    "    value={\"id\":2, \"name\":\"👩 Adele\", \"pizza\":\"Hawaii 🍕+🍍+🥓\"}\n",
    ")\n",
    "\n",
    "producer.produce(\n",
    "    \"pizzas\",\n",
    "    key={\"id\":3},\n",
    "    value={\"id\":3, \"name\":\"👦 Mark\", \"pizza\":\"Choccolate 🍕+🍫\"}\n",
    ")\n",
    "\n",
    "producer.flush()"
   ]
  }
 ],
 "metadata": {
  "kernelspec": {
   "display_name": "Python 3 (ipykernel)",
   "language": "python",
   "name": "python3"
  },
  "language_info": {
   "codemirror_mode": {
    "name": "ipython",
    "version": 3
   },
   "file_extension": ".py",
   "mimetype": "text/x-python",
   "name": "python",
   "nbconvert_exporter": "python",
   "pygments_lexer": "ipython3",
   "version": "3.10.8"
  }
 },
 "nbformat": 4,
 "nbformat_minor": 4
}
