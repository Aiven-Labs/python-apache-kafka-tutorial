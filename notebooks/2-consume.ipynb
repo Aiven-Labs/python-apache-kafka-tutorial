{
 "cells": [
  {
   "cell_type": "markdown",
   "metadata": {},
   "source": [
    "# Part 2 - Consume messages from an Apache Kafka topic\n",
    "\n",
    "In this notebook you will learn how to consume messages to an Apache Kafka topic\n",
    "\n",
    "![Consume messages from an Apache Kafka Topic](../img/consume.png)"
   ]
  },
  {
   "cell_type": "markdown",
   "metadata": {},
   "source": [
    "_If you haven't already created and setup your virtual environment, follow the steps from [0-setup.ipynb](0-setup.ipynb)_"
   ]
  },
  {
   "cell_type": "markdown",
   "metadata": {},
   "source": [
    "## Create an Apache Kafka consumer\n",
    "\n",
    "The next step is to configure the Kafka consumer and have it run while we produce messages."
   ]
  },
  {
   "cell_type": "code",
   "execution_count": 5,
   "metadata": {},
   "outputs": [
    {
     "name": "stdout",
     "output_type": "stream",
     "text": [
      "0:1: k={'id': 2} v={'id': 2, 'name': '👩 Adele', 'pizza': 'Hawaii 🍕+🍍+🥓'}\n",
      "0:2: k={'id': 3} v={'id': 3, 'name': '👦 Mark', 'pizza': 'Choccolate 🍕+🍫'}\n",
      "Shutdown requested...exiting\n"
     ]
    }
   ],
   "source": [
    "# Import Python Modules\n",
    "import json\n",
    "import os\n",
    "\n",
    "from confluent_kafka import DeserializingConsumer, KafkaError, KafkaException\n",
    "\n",
    "from dotenv import load_dotenv\n",
    "\n",
    "# Load environment variables\n",
    "load_dotenv()\n",
    "\n",
    "KAFKA_SERVICE_URI = os.getenv(\"KAFKA_SERVICE_URI\")\n",
    "\n",
    "\n",
    "def json_serializer(msg, s_obj):\n",
    "    return json.loads(msg.decode('ascii'))\n",
    "\n",
    "conf = {\n",
    "    'bootstrap.servers': KAFKA_SERVICE_URI,\n",
    "    'client.id': 'myclient',\n",
    "    'group.id': 'pizzaioli',\n",
    "    'security.protocol': 'SSL',\n",
    "    'ssl.ca.location': '../sslcerts/ca.pem',\n",
    "    'ssl.certificate.location': '../sslcerts/service.cert',\n",
    "    'ssl.key.location': '../sslcerts/service.key', \n",
    "    'value.deserializer': json_serializer,\n",
    "    'key.deserializer': json_serializer\n",
    "    }\n",
    "\n",
    "consumer = DeserializingConsumer(conf)\n",
    "\n",
    "running = True\n",
    "\n",
    "try:\n",
    "    consumer.subscribe([\"pizzas\"])\n",
    "\n",
    "    while running:\n",
    "        msg = consumer.poll(timeout=1.0)\n",
    "        if msg is None: continue\n",
    "\n",
    "        if msg.error():\n",
    "            if msg.error().code() == KafkaError._PARTITION_EOF:\n",
    "                # End of partition event\n",
    "                sys.stderr.write('%% %s [%d] reached end at offset %d\\n' %\n",
    "                                 (msg.topic(), msg.partition(), msg.offset()))\n",
    "            elif msg.error():\n",
    "                raise KafkaException(msg.error())\n",
    "        else:\n",
    "            print (\"%d:%d: k=%s v=%s\" % (\n",
    "                msg.partition(),\n",
    "                msg.offset(),\n",
    "                msg.key(),\n",
    "                msg.value()))\n",
    "except KeyboardInterrupt:\n",
    "    print (\"Shutdown requested...exiting\")\n",
    "finally:\n",
    "    # Close down consumer to commit final offsets.\n",
    "    consumer.close()    "
   ]
  },
  {
   "cell_type": "markdown",
   "metadata": {},
   "source": [
    "---\n",
    "Read messages"
   ]
  }
 ],
 "metadata": {
  "kernelspec": {
   "display_name": "Python 3 (ipykernel)",
   "language": "python",
   "name": "python3"
  },
  "language_info": {
   "codemirror_mode": {
    "name": "ipython",
    "version": 3
   },
   "file_extension": ".py",
   "mimetype": "text/x-python",
   "name": "python",
   "nbconvert_exporter": "python",
   "pygments_lexer": "ipython3",
   "version": "3.12.2"
  }
 },
 "nbformat": 4,
 "nbformat_minor": 4
}
