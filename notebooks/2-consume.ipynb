{
 "cells": [
  {
   "cell_type": "markdown",
   "metadata": {},
   "source": [
    "# Part 2 - Consume messages from an Apache Kafka topic\n",
    "\n",
    "In this notebook you will learn how to consume messages to an Apache Kafka topic\n",
    "\n",
    "![Consume messages from an Apache Kafka Topic](../img/consume.png)"
   ]
  },
  {
   "cell_type": "markdown",
   "metadata": {},
   "source": [
    "> [!NOTE]\n",
    ">\n",
    "> _If you haven't already created and setup your virtual environment, follow the steps from [0-setup.ipynb](0-setup.ipynb)_"
   ]
  },
  {
   "cell_type": "markdown",
   "metadata": {},
   "source": [
    "## Create an Apache Kafka consumer\n",
    "\n",
    "The next step is to configure the Kafka consumer and have it run while we produce messages."
   ]
  },
  {
   "cell_type": "code",
   "execution_count": 12,
   "metadata": {},
   "outputs": [
    {
     "data": {
      "text/html": [
       "<pre style=\"white-space:pre;overflow-x:auto;line-height:normal;font-family:Menlo,'DejaVu Sans Mono',consolas,'Courier New',monospace\"><span style=\"color: #00ff00; text-decoration-color: #00ff00\">───────────────────────────────────────── </span><span style=\"color: #800000; text-decoration-color: #800000; font-weight: bold\">Consuming Messages with Python</span><span style=\"color: #00ff00; text-decoration-color: #00ff00\"> ──────────────────────────────────────────</span>\n",
       "</pre>\n"
      ],
      "text/plain": [
       "\u001b[92m───────────────────────────────────────── \u001b[0m\u001b[1;31mConsuming Messages with Python\u001b[0m\u001b[92m ──────────────────────────────────────────\u001b[0m\n"
      ]
     },
     "metadata": {},
     "output_type": "display_data"
    },
    {
     "data": {
      "application/vnd.jupyter.widget-view+json": {
       "model_id": "e95e69064eba45559ed218c60f987f0d",
       "version_major": 2,
       "version_minor": 0
      },
      "text/plain": [
       "Output()"
      ]
     },
     "metadata": {},
     "output_type": "display_data"
    },
    {
     "data": {
      "text/html": [
       "<pre style=\"white-space:pre;overflow-x:auto;line-height:normal;font-family:Menlo,'DejaVu Sans Mono',consolas,'Courier New',monospace\"><span style=\"color: #008080; text-decoration-color: #008080; font-weight: bold\">9</span>: <span style=\"font-weight: bold\">{</span><span style=\"color: #008000; text-decoration-color: #008000\">'id'</span>: <span style=\"color: #008080; text-decoration-color: #008080; font-weight: bold\">2</span><span style=\"font-weight: bold\">}</span>:<span style=\"font-weight: bold\">{</span><span style=\"color: #008000; text-decoration-color: #008000\">'id'</span>: <span style=\"color: #008080; text-decoration-color: #008080; font-weight: bold\">2</span>, <span style=\"color: #008000; text-decoration-color: #008000\">'name'</span>: <span style=\"color: #008000; text-decoration-color: #008000\">'👩 Adele'</span>, <span style=\"color: #008000; text-decoration-color: #008000\">'pizza'</span>: <span style=\"color: #008000; text-decoration-color: #008000\">'Hawaii 🍕+🍍+🥓'</span><span style=\"font-weight: bold\">}</span>\n",
       "\n",
       "\n",
       "</pre>\n"
      ],
      "text/plain": [
       "\u001b[1;36m9\u001b[0m: \u001b[1m{\u001b[0m\u001b[32m'id'\u001b[0m: \u001b[1;36m2\u001b[0m\u001b[1m}\u001b[0m:\u001b[1m{\u001b[0m\u001b[32m'id'\u001b[0m: \u001b[1;36m2\u001b[0m, \u001b[32m'name'\u001b[0m: \u001b[32m'👩 Adele'\u001b[0m, \u001b[32m'pizza'\u001b[0m: \u001b[32m'Hawaii 🍕+🍍+🥓'\u001b[0m\u001b[1m}\u001b[0m\n",
       "\n",
       "\n"
      ]
     },
     "metadata": {},
     "output_type": "display_data"
    },
    {
     "data": {
      "text/html": [
       "<pre style=\"white-space:pre;overflow-x:auto;line-height:normal;font-family:Menlo,'DejaVu Sans Mono',consolas,'Courier New',monospace\"><span style=\"color: #008080; text-decoration-color: #008080; font-weight: bold\">10</span>: <span style=\"font-weight: bold\">{</span><span style=\"color: #008000; text-decoration-color: #008000\">'id'</span>: <span style=\"color: #008080; text-decoration-color: #008080; font-weight: bold\">3</span><span style=\"font-weight: bold\">}</span>:<span style=\"font-weight: bold\">{</span><span style=\"color: #008000; text-decoration-color: #008000\">'id'</span>: <span style=\"color: #008080; text-decoration-color: #008080; font-weight: bold\">3</span>, <span style=\"color: #008000; text-decoration-color: #008000\">'name'</span>: <span style=\"color: #008000; text-decoration-color: #008000\">'👦 Mark'</span>, <span style=\"color: #008000; text-decoration-color: #008000\">'pizza'</span>: <span style=\"color: #008000; text-decoration-color: #008000\">'Choccolate 🍕+🍫'</span><span style=\"font-weight: bold\">}</span>\n",
       "\n",
       "\n",
       "</pre>\n"
      ],
      "text/plain": [
       "\u001b[1;36m10\u001b[0m: \u001b[1m{\u001b[0m\u001b[32m'id'\u001b[0m: \u001b[1;36m3\u001b[0m\u001b[1m}\u001b[0m:\u001b[1m{\u001b[0m\u001b[32m'id'\u001b[0m: \u001b[1;36m3\u001b[0m, \u001b[32m'name'\u001b[0m: \u001b[32m'👦 Mark'\u001b[0m, \u001b[32m'pizza'\u001b[0m: \u001b[32m'Choccolate 🍕+🍫'\u001b[0m\u001b[1m}\u001b[0m\n",
       "\n",
       "\n"
      ]
     },
     "metadata": {},
     "output_type": "display_data"
    },
    {
     "data": {
      "text/html": [
       "<pre style=\"white-space:pre;overflow-x:auto;line-height:normal;font-family:Menlo,'DejaVu Sans Mono',consolas,'Courier New',monospace\"></pre>\n"
      ],
      "text/plain": []
     },
     "metadata": {},
     "output_type": "display_data"
    }
   ],
   "source": [
    "# Import Python Modules\n",
    "import json\n",
    "import os\n",
    "\n",
    "from confluent_kafka import DeserializingConsumer, KafkaError, KafkaException\n",
    "from rich.console import Console\n",
    "from dotenv import load_dotenv\n",
    "\n",
    "# Load environment variables\n",
    "load_dotenv()\n",
    "\n",
    "KAFKA_SERVICE_URI = os.getenv(\"KAFKA_SERVICE_URI\")\n",
    "\n",
    "\n",
    "def json_serializer(msg, s_obj):\n",
    "    return json.loads(msg.decode('ascii'))\n",
    "\n",
    "conf = {\n",
    "    'bootstrap.servers': KAFKA_SERVICE_URI,\n",
    "    'client.id': 'myclient',\n",
    "    'group.id': 'pizzaioli',\n",
    "    'security.protocol': 'SSL',\n",
    "    'ssl.ca.location': '../sslcerts/ca.pem',\n",
    "    'ssl.certificate.location': '../sslcerts/service.cert',\n",
    "    'ssl.key.location': '../sslcerts/service.key', \n",
    "    'value.deserializer': json_serializer,\n",
    "    'key.deserializer': json_serializer\n",
    "    }\n",
    "\n",
    "consumer = DeserializingConsumer(conf)\n",
    "console = Console()\n",
    "\n",
    "finished = False\n",
    "local_count = 0\n",
    "\n",
    "try:\n",
    "    consumer.subscribe([\"pizzas\"])\n",
    "    with console.status(\"Please run the last Python block in 1-produce.ipynb\"):\n",
    "        while not finished:\n",
    "            if (msg:=consumer.poll(timeout=1.0)) is None:\n",
    "               continue\n",
    "            elif msg.error():\n",
    "                    raise KafkaException(msg.error())\n",
    "            else:\n",
    "                console.print(f\"{msg.offset()}: {msg.key()}:{msg.value()}\\n\\n\")\n",
    "                local_count += 1\n",
    "                finished = local_count == 2\n",
    "finally:\n",
    "    # Close down consumer to commit final offsets.\n",
    "    consumer.close()    "
   ]
  },
  {
   "cell_type": "markdown",
   "metadata": {},
   "source": [
    "### Good Job 💪\n",
    "\n",
    "Things are picking up. Let's continue to [producing partitioned topics](3-produce-partitioned-topic.ipynb)"
   ]
  }
 ],
 "metadata": {
  "kernelspec": {
   "display_name": "Python 3 (ipykernel)",
   "language": "python",
   "name": "python3"
  },
  "language_info": {
   "codemirror_mode": {
    "name": "ipython",
    "version": 3
   },
   "file_extension": ".py",
   "mimetype": "text/x-python",
   "name": "python",
   "nbconvert_exporter": "python",
   "pygments_lexer": "ipython3",
   "version": "3.12.2"
  }
 },
 "nbformat": 4,
 "nbformat_minor": 4
}
