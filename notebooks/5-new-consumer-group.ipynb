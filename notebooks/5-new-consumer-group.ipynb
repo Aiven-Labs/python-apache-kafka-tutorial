{
 "cells": [
  {
   "cell_type": "markdown",
   "metadata": {},
   "source": [
    "# Consume messages from an Apache Kafka partitioned topic\n",
    "\n",
    "In the [previous notebook](4-consume-partition-0.ipynb), we explored consuming topics in separate partitions.\n",
    "\n",
    "![Consume messages from an Apache Kafka Topic](../img/consume.png)\n",
    "\n",
    "In the last sample we created one si\n",
    "## Prerequisites\n",
    "\n",
    "To start the tutorial you need to:\n",
    "\n",
    "* Download the Aiven for Apache Kafka SSL certificates as mentioned in the [README instructions](../README.md#Download-the-required-SSL-certificates)\n",
    "* Retrieve the Aiven for Apache Kafka hostname and port, from the [Aiven Console](https://console.aiven.io/) in the Aiven for Apache Kafka service overview\n",
    "* Substitute the Apache Kafka hostname and port in the parameters below"
   ]
  },
  {
   "cell_type": "code",
   "execution_count": 23,
   "metadata": {},
   "outputs": [],
   "source": [
    "\n",
    "import os\n",
    "import json\n",
    "\n",
    "from confluent_kafka import (\n",
    "    DeserializingConsumer,\n",
    "    KafkaError,\n",
    "    KafkaException,\n",
    "    TopicPartition,\n",
    ")\n",
    "\n",
    "from dotenv import load_dotenv\n",
    "\n",
    "# Load environment variables\n",
    "load_dotenv()\n",
    "\n",
    "KAFKA_SERVICE_URI = os.getenv(\"KAFKA_SERVICE_URI\")\n",
    "topic = 'pizzaPartitioned'\n",
    "\n",
    "def json_serializer(msg, s_obj):\n",
    "    return json.loads(msg.decode('ascii'))\n",
    "\n",
    "base_conf = {\n",
    "    'bootstrap.servers': KAFKA_SERVICE_URI,\n",
    "    'client.id': 'myclient',\n",
    "    'group.id': 'base',\n",
    "    'security.protocol': 'SSL',\n",
    "    'ssl.ca.location': '../sslcerts/ca.pem',\n",
    "    'ssl.certificate.location': '../sslcerts/service.cert',\n",
    "    'ssl.key.location': '../sslcerts/service.key', \n",
    "    'value.deserializer': json_serializer,\n",
    "    'key.deserializer': json_serializer\n",
    "    }\n",
    "\n",
    "orders_conf = {**base_conf, 'group.id': 'orders'}\n",
    "\n",
    "# Create a and orders consumer for each store\n",
    "orders_consumer_store_0 = DeserializingConsumer(orders_conf)\n",
    "orders_consumer_store_0.assign([TopicPartition(topic, 0)])\n",
    "\n",
    "orders_consumer_store_1 = DeserializingConsumer(orders_conf)\n",
    "orders_consumer_store_1.assign([TopicPartition(topic, 1)])\n",
    "\n",
    "# Create a centralized billing consumer\n",
    "billing_conf = {**base_conf, 'group.id': 'billing'}\n",
    "billing_consumer = DeserializingConsumer(billing_conf)\n",
    "billing_consumer.assign([TopicPartition(topic, 0), TopicPartition(topic, 1)])\n",
    "\n"
   ]
  },
  {
   "cell_type": "markdown",
   "metadata": {},
   "source": [
    "## Consume messages to the `pizzaPartitioned` topic\n",
    "\n",
    "To show how that the partitions have access to different one or more groups we'll consume our groups using this custom function `display_orders`.\n",
    "\n",
    "This will tell you the Name of the partition and the message that we're used to.\n",
    "\n",
    "We've color-coded the consumers so you'll see the _Northern_Store_ Consumer in Red, the _Southern Store_ in green, and the _Accounts Payable Consumer_\n",
    "that can consumer from both topics in blue."
   ]
  },
  {
   "cell_type": "code",
   "execution_count": 37,
   "metadata": {},
   "outputs": [
    {
     "data": {
      "text/html": [
       "<pre style=\"white-space:pre;overflow-x:auto;line-height:normal;font-family:Menlo,'DejaVu Sans Mono',consolas,'Courier New',monospace\">Run the last block from `Produce-Partitioned-Topics.ipynb`.\n",
       "</pre>\n"
      ],
      "text/plain": [
       "Run the last block from `Produce-Partitioned-Topics.ipynb`.\n"
      ]
     },
     "metadata": {},
     "output_type": "display_data"
    },
    {
     "data": {
      "text/html": [
       "<pre style=\"white-space:pre;overflow-x:auto;line-height:normal;font-family:Menlo,'DejaVu Sans Mono',consolas,'Courier New',monospace\"><span style=\"color: #800000; text-decoration-color: #800000; font-weight: bold\">Checking Partition Northern Store </span>\n",
       "<span style=\"color: #800000; text-decoration-color: #800000; font-weight: bold\">----------</span>\n",
       "</pre>\n"
      ],
      "text/plain": [
       "\u001b[1;31mChecking Partition Northern Store \u001b[0m\n",
       "\u001b[1;31m----------\u001b[0m\n"
      ]
     },
     "metadata": {},
     "output_type": "display_data"
    },
    {
     "data": {
      "text/html": [
       "<pre style=\"white-space:pre;overflow-x:auto;line-height:normal;font-family:Menlo,'DejaVu Sans Mono',consolas,'Courier New',monospace\"><span style=\"color: #800000; text-decoration-color: #800000; font-weight: bold\">0:59: {</span><span style=\"color: #800000; text-decoration-color: #800000; font-weight: bold\">'id'</span><span style=\"color: #800000; text-decoration-color: #800000; font-weight: bold\">: </span><span style=\"color: #800000; text-decoration-color: #800000; font-weight: bold\">1</span><span style=\"color: #800000; text-decoration-color: #800000; font-weight: bold\">}:{</span><span style=\"color: #800000; text-decoration-color: #800000; font-weight: bold\">'id'</span><span style=\"color: #800000; text-decoration-color: #800000; font-weight: bold\">: </span><span style=\"color: #800000; text-decoration-color: #800000; font-weight: bold\">1</span><span style=\"color: #800000; text-decoration-color: #800000; font-weight: bold\">, </span><span style=\"color: #800000; text-decoration-color: #800000; font-weight: bold\">'name'</span><span style=\"color: #800000; text-decoration-color: #800000; font-weight: bold\">: </span><span style=\"color: #800000; text-decoration-color: #800000; font-weight: bold\">'👨 Francesco'</span><span style=\"color: #800000; text-decoration-color: #800000; font-weight: bold\">, </span><span style=\"color: #800000; text-decoration-color: #800000; font-weight: bold\">'pizza'</span><span style=\"color: #800000; text-decoration-color: #800000; font-weight: bold\">: </span><span style=\"color: #800000; text-decoration-color: #800000; font-weight: bold\">'Margherita 🍕'</span><span style=\"color: #800000; text-decoration-color: #800000; font-weight: bold\">}</span>\n",
       "\n",
       "\n",
       "</pre>\n"
      ],
      "text/plain": [
       "\u001b[1;31m0:59\u001b[0m\u001b[1;31m: \u001b[0m\u001b[1;31m{\u001b[0m\u001b[1;31m'id'\u001b[0m\u001b[1;31m: \u001b[0m\u001b[1;31m1\u001b[0m\u001b[1;31m}\u001b[0m\u001b[1;31m:\u001b[0m\u001b[1;31m{\u001b[0m\u001b[1;31m'id'\u001b[0m\u001b[1;31m: \u001b[0m\u001b[1;31m1\u001b[0m\u001b[1;31m, \u001b[0m\u001b[1;31m'name'\u001b[0m\u001b[1;31m: \u001b[0m\u001b[1;31m'👨 Francesco'\u001b[0m\u001b[1;31m, \u001b[0m\u001b[1;31m'pizza'\u001b[0m\u001b[1;31m: \u001b[0m\u001b[1;31m'Margherita 🍕'\u001b[0m\u001b[1;31m}\u001b[0m\n",
       "\n",
       "\n"
      ]
     },
     "metadata": {},
     "output_type": "display_data"
    },
    {
     "data": {
      "text/html": [
       "<pre style=\"white-space:pre;overflow-x:auto;line-height:normal;font-family:Menlo,'DejaVu Sans Mono',consolas,'Courier New',monospace\"><span style=\"color: #008000; text-decoration-color: #008000; font-weight: bold\">Checking Partition Southern Store </span>\n",
       "<span style=\"color: #008000; text-decoration-color: #008000; font-weight: bold\">----------</span>\n",
       "</pre>\n"
      ],
      "text/plain": [
       "\u001b[1;32mChecking Partition Southern Store \u001b[0m\n",
       "\u001b[1;32m----------\u001b[0m\n"
      ]
     },
     "metadata": {},
     "output_type": "display_data"
    },
    {
     "data": {
      "text/html": [
       "<pre style=\"white-space:pre;overflow-x:auto;line-height:normal;font-family:Menlo,'DejaVu Sans Mono',consolas,'Courier New',monospace\"><span style=\"color: #008000; text-decoration-color: #008000; font-weight: bold\">1:52: {</span><span style=\"color: #008000; text-decoration-color: #008000; font-weight: bold\">'id'</span><span style=\"color: #008000; text-decoration-color: #008000; font-weight: bold\">: </span><span style=\"color: #008000; text-decoration-color: #008000; font-weight: bold\">2</span><span style=\"color: #008000; text-decoration-color: #008000; font-weight: bold\">}:{</span><span style=\"color: #008000; text-decoration-color: #008000; font-weight: bold\">'id'</span><span style=\"color: #008000; text-decoration-color: #008000; font-weight: bold\">: </span><span style=\"color: #008000; text-decoration-color: #008000; font-weight: bold\">2</span><span style=\"color: #008000; text-decoration-color: #008000; font-weight: bold\">, </span><span style=\"color: #008000; text-decoration-color: #008000; font-weight: bold\">'name'</span><span style=\"color: #008000; text-decoration-color: #008000; font-weight: bold\">: </span><span style=\"color: #008000; text-decoration-color: #008000; font-weight: bold\">'👩 Adele'</span><span style=\"color: #008000; text-decoration-color: #008000; font-weight: bold\">, </span><span style=\"color: #008000; text-decoration-color: #008000; font-weight: bold\">'pizza'</span><span style=\"color: #008000; text-decoration-color: #008000; font-weight: bold\">: </span><span style=\"color: #008000; text-decoration-color: #008000; font-weight: bold\">'Hawaii 🍕+🍍+🥓'</span><span style=\"color: #008000; text-decoration-color: #008000; font-weight: bold\">}</span>\n",
       "\n",
       "\n",
       "</pre>\n"
      ],
      "text/plain": [
       "\u001b[1;32m1:52\u001b[0m\u001b[1;32m: \u001b[0m\u001b[1;32m{\u001b[0m\u001b[1;32m'id'\u001b[0m\u001b[1;32m: \u001b[0m\u001b[1;32m2\u001b[0m\u001b[1;32m}\u001b[0m\u001b[1;32m:\u001b[0m\u001b[1;32m{\u001b[0m\u001b[1;32m'id'\u001b[0m\u001b[1;32m: \u001b[0m\u001b[1;32m2\u001b[0m\u001b[1;32m, \u001b[0m\u001b[1;32m'name'\u001b[0m\u001b[1;32m: \u001b[0m\u001b[1;32m'👩 Adele'\u001b[0m\u001b[1;32m, \u001b[0m\u001b[1;32m'pizza'\u001b[0m\u001b[1;32m: \u001b[0m\u001b[1;32m'Hawaii 🍕+🍍+🥓'\u001b[0m\u001b[1;32m}\u001b[0m\n",
       "\n",
       "\n"
      ]
     },
     "metadata": {},
     "output_type": "display_data"
    },
    {
     "data": {
      "text/html": [
       "<pre style=\"white-space:pre;overflow-x:auto;line-height:normal;font-family:Menlo,'DejaVu Sans Mono',consolas,'Courier New',monospace\"><span style=\"color: #af00ff; text-decoration-color: #af00ff; font-weight: bold\">Checking Partition Accounts Payable </span>\n",
       "<span style=\"color: #af00ff; text-decoration-color: #af00ff; font-weight: bold\">----------</span>\n",
       "</pre>\n"
      ],
      "text/plain": [
       "\u001b[1;38;5;129mChecking Partition Accounts Payable \u001b[0m\n",
       "\u001b[1;38;5;129m----------\u001b[0m\n"
      ]
     },
     "metadata": {},
     "output_type": "display_data"
    },
    {
     "data": {
      "text/html": [
       "<pre style=\"white-space:pre;overflow-x:auto;line-height:normal;font-family:Menlo,'DejaVu Sans Mono',consolas,'Courier New',monospace\"><span style=\"color: #af00ff; text-decoration-color: #af00ff; font-weight: bold\">1:51: {</span><span style=\"color: #af00ff; text-decoration-color: #af00ff; font-weight: bold\">'id'</span><span style=\"color: #af00ff; text-decoration-color: #af00ff; font-weight: bold\">: </span><span style=\"color: #af00ff; text-decoration-color: #af00ff; font-weight: bold\">2</span><span style=\"color: #af00ff; text-decoration-color: #af00ff; font-weight: bold\">}:{</span><span style=\"color: #af00ff; text-decoration-color: #af00ff; font-weight: bold\">'id'</span><span style=\"color: #af00ff; text-decoration-color: #af00ff; font-weight: bold\">: </span><span style=\"color: #af00ff; text-decoration-color: #af00ff; font-weight: bold\">2</span><span style=\"color: #af00ff; text-decoration-color: #af00ff; font-weight: bold\">, </span><span style=\"color: #af00ff; text-decoration-color: #af00ff; font-weight: bold\">'name'</span><span style=\"color: #af00ff; text-decoration-color: #af00ff; font-weight: bold\">: </span><span style=\"color: #af00ff; text-decoration-color: #af00ff; font-weight: bold\">'👩 Adele'</span><span style=\"color: #af00ff; text-decoration-color: #af00ff; font-weight: bold\">, </span><span style=\"color: #af00ff; text-decoration-color: #af00ff; font-weight: bold\">'pizza'</span><span style=\"color: #af00ff; text-decoration-color: #af00ff; font-weight: bold\">: </span><span style=\"color: #af00ff; text-decoration-color: #af00ff; font-weight: bold\">'Hawaii 🍕+🍍+🥓'</span><span style=\"color: #af00ff; text-decoration-color: #af00ff; font-weight: bold\">}</span>\n",
       "\n",
       "\n",
       "</pre>\n"
      ],
      "text/plain": [
       "\u001b[1;38;5;129m1:51\u001b[0m\u001b[1;38;5;129m: \u001b[0m\u001b[1;38;5;129m{\u001b[0m\u001b[1;38;5;129m'id'\u001b[0m\u001b[1;38;5;129m: \u001b[0m\u001b[1;38;5;129m2\u001b[0m\u001b[1;38;5;129m}\u001b[0m\u001b[1;38;5;129m:\u001b[0m\u001b[1;38;5;129m{\u001b[0m\u001b[1;38;5;129m'id'\u001b[0m\u001b[1;38;5;129m: \u001b[0m\u001b[1;38;5;129m2\u001b[0m\u001b[1;38;5;129m, \u001b[0m\u001b[1;38;5;129m'name'\u001b[0m\u001b[1;38;5;129m: \u001b[0m\u001b[1;38;5;129m'👩 Adele'\u001b[0m\u001b[1;38;5;129m, \u001b[0m\u001b[1;38;5;129m'pizza'\u001b[0m\u001b[1;38;5;129m: \u001b[0m\u001b[1;38;5;129m'Hawaii 🍕+🍍+🥓'\u001b[0m\u001b[1;38;5;129m}\u001b[0m\n",
       "\n",
       "\n"
      ]
     },
     "metadata": {},
     "output_type": "display_data"
    },
    {
     "data": {
      "text/html": [
       "<pre style=\"white-space:pre;overflow-x:auto;line-height:normal;font-family:Menlo,'DejaVu Sans Mono',consolas,'Courier New',monospace\"><span style=\"color: #af00ff; text-decoration-color: #af00ff; font-weight: bold\">Checking Partition Accounts Payable </span>\n",
       "<span style=\"color: #af00ff; text-decoration-color: #af00ff; font-weight: bold\">----------</span>\n",
       "</pre>\n"
      ],
      "text/plain": [
       "\u001b[1;38;5;129mChecking Partition Accounts Payable \u001b[0m\n",
       "\u001b[1;38;5;129m----------\u001b[0m\n"
      ]
     },
     "metadata": {},
     "output_type": "display_data"
    },
    {
     "data": {
      "text/html": [
       "<pre style=\"white-space:pre;overflow-x:auto;line-height:normal;font-family:Menlo,'DejaVu Sans Mono',consolas,'Courier New',monospace\"><span style=\"color: #af00ff; text-decoration-color: #af00ff; font-weight: bold\">0:51: {</span><span style=\"color: #af00ff; text-decoration-color: #af00ff; font-weight: bold\">'id'</span><span style=\"color: #af00ff; text-decoration-color: #af00ff; font-weight: bold\">: </span><span style=\"color: #af00ff; text-decoration-color: #af00ff; font-weight: bold\">1</span><span style=\"color: #af00ff; text-decoration-color: #af00ff; font-weight: bold\">}:{</span><span style=\"color: #af00ff; text-decoration-color: #af00ff; font-weight: bold\">'id'</span><span style=\"color: #af00ff; text-decoration-color: #af00ff; font-weight: bold\">: </span><span style=\"color: #af00ff; text-decoration-color: #af00ff; font-weight: bold\">1</span><span style=\"color: #af00ff; text-decoration-color: #af00ff; font-weight: bold\">, </span><span style=\"color: #af00ff; text-decoration-color: #af00ff; font-weight: bold\">'name'</span><span style=\"color: #af00ff; text-decoration-color: #af00ff; font-weight: bold\">: </span><span style=\"color: #af00ff; text-decoration-color: #af00ff; font-weight: bold\">'👨 Francesco'</span><span style=\"color: #af00ff; text-decoration-color: #af00ff; font-weight: bold\">, </span><span style=\"color: #af00ff; text-decoration-color: #af00ff; font-weight: bold\">'pizza'</span><span style=\"color: #af00ff; text-decoration-color: #af00ff; font-weight: bold\">: </span><span style=\"color: #af00ff; text-decoration-color: #af00ff; font-weight: bold\">'Margherita 🍕'</span><span style=\"color: #af00ff; text-decoration-color: #af00ff; font-weight: bold\">}</span>\n",
       "\n",
       "\n",
       "</pre>\n"
      ],
      "text/plain": [
       "\u001b[1;38;5;129m0:51\u001b[0m\u001b[1;38;5;129m: \u001b[0m\u001b[1;38;5;129m{\u001b[0m\u001b[1;38;5;129m'id'\u001b[0m\u001b[1;38;5;129m: \u001b[0m\u001b[1;38;5;129m1\u001b[0m\u001b[1;38;5;129m}\u001b[0m\u001b[1;38;5;129m:\u001b[0m\u001b[1;38;5;129m{\u001b[0m\u001b[1;38;5;129m'id'\u001b[0m\u001b[1;38;5;129m: \u001b[0m\u001b[1;38;5;129m1\u001b[0m\u001b[1;38;5;129m, \u001b[0m\u001b[1;38;5;129m'name'\u001b[0m\u001b[1;38;5;129m: \u001b[0m\u001b[1;38;5;129m'👨 Francesco'\u001b[0m\u001b[1;38;5;129m, \u001b[0m\u001b[1;38;5;129m'pizza'\u001b[0m\u001b[1;38;5;129m: \u001b[0m\u001b[1;38;5;129m'Margherita 🍕'\u001b[0m\u001b[1;38;5;129m}\u001b[0m\n",
       "\n",
       "\n"
      ]
     },
     "metadata": {},
     "output_type": "display_data"
    }
   ],
   "source": [
    "from rich.console import Console\n",
    "\n",
    "console = Console()\n",
    "\n",
    "def display_orders(consumer:DeserializingConsumer, label:str, style:str = \"bold\", count:int = 1):\n",
    "    \"\"\"Display the orders from a consumer.\"\"\"\n",
    "    finished = False\n",
    "    local_count = 0\n",
    "    while not finished:\n",
    "        if (msg:=consumer.poll(timeout=1.0)) is None:\n",
    "            continue\n",
    "        elif msg.error():\n",
    "                raise KafkaException(msg.error())\n",
    "        else:\n",
    "            console.print(f\"Checking Partition {label} \\n\" + \"-\"*10, style=style)\n",
    "            console.print(f\"[{style}]{msg.partition()}:{msg.offset()}: {msg.key()}:{msg.value()}[/{style}]\\n\\n\")\n",
    "            local_count += 1\n",
    "            finished = local_count == count\n",
    "\n",
    "console.print(\"Run the last block from `Produce-Partitioned-Topics.ipynb`.\")\n",
    "display_orders(orders_consumer_store_0, \"Northern Store\", \"bold red\")\n",
    "display_orders(orders_consumer_store_1, \"Southern Store\", \"bold green\")\n",
    "display_orders(billing_consumer, \"Accounts Payable\", \"bold blue\", count=2)"
   ]
  },
  {
   "cell_type": "markdown",
   "metadata": {},
   "source": [
    "## Great Work\n",
    "\n",
    "We configured our three consumers to consume different topics. This is one way of limiting how we consume particular topics.\n",
    "\n",
    "In our penultimate notebook, we'll take a look at a using Apache Flink to filter messages based on a query.\n",
    "\n",
    "[Proceed to the next notebook](6-transform-with-apache-flink.ipynb) "
   ]
  }
 ],
 "metadata": {
  "kernelspec": {
   "display_name": "Python 3 (ipykernel)",
   "language": "python",
   "name": "python3"
  },
  "language_info": {
   "codemirror_mode": {
    "name": "ipython",
    "version": 3
   },
   "file_extension": ".py",
   "mimetype": "text/x-python",
   "name": "python",
   "nbconvert_exporter": "python",
   "pygments_lexer": "ipython3",
   "version": "3.12.2"
  }
 },
 "nbformat": 4,
 "nbformat_minor": 4
}
