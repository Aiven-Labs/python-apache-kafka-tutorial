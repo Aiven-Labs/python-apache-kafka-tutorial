{
 "cells": [
  {
   "cell_type": "markdown",
   "metadata": {},
   "source": [
    "# Consume messages from an Apache Kafka partitioned topic\n",
    "\n",
    "In the [previous notebook](4-consume-partition-0.ipynb), we explored consuming topics in separate partitions.\n",
    "\n",
    "![Consume messages from an Apache Kafka Topic](../img/consume.png)\n",
    "\n",
    "In the last sample we created one si\n",
    "## Prerequisites\n",
    "\n",
    "To start the tutorial you need to:\n",
    "\n",
    "* Download the Aiven for Apache Kafka SSL certificates as mentioned in the [README instructions](../README.md#Download-the-required-SSL-certificates)\n",
    "* Retrieve the Aiven for Apache Kafka hostname and port, from the [Aiven Console](https://console.aiven.io/) in the Aiven for Apache Kafka service overview\n",
    "* Substitute the Apache Kafka hostname and port in the parameters below"
   ]
  },
  {
   "cell_type": "code",
   "execution_count": 6,
   "metadata": {},
   "outputs": [],
   "source": [
    "\n",
    "import os\n",
    "import json\n",
    "\n",
    "from confluent_kafka import (\n",
    "    DeserializingConsumer,\n",
    "    KafkaError,\n",
    "    KafkaException,\n",
    "    TopicPartition,\n",
    ")\n",
    "\n",
    "from dotenv import load_dotenv\n",
    "\n",
    "# Load environment variables\n",
    "load_dotenv()\n",
    "\n",
    "KAFKA_SERVICE_URI = os.getenv(\"KAFKA_SERVICE_URI\")\n",
    "topic = 'pizzaPartitioned'\n",
    "\n",
    "def json_serializer(msg, s_obj):\n",
    "    return json.loads(msg.decode('ascii'))\n",
    "\n",
    "base_conf = {\n",
    "    'bootstrap.servers': KAFKA_SERVICE_URI,\n",
    "    'client.id': 'myclient',\n",
    "    'group.id': 'base',\n",
    "    'security.protocol': 'SSL',\n",
    "    'ssl.ca.location': '../sslcerts/ca.pem',\n",
    "    'ssl.certificate.location': '../sslcerts/service.cert',\n",
    "    'ssl.key.location': '../sslcerts/service.key', \n",
    "    'value.deserializer': json_serializer,\n",
    "    'key.deserializer': json_serializer\n",
    "    }\n",
    "\n",
    "orders_conf = {**base_conf, 'group.id': 'orders'}\n",
    "\n",
    "# Create a and orders consumer for each store\n",
    "orders_consumer_store_0 = DeserializingConsumer(orders_conf)\n",
    "orders_consumer_store_0.assign([TopicPartition(topic, 0)])\n",
    "\n",
    "orders_consumer_store_1 = DeserializingConsumer(orders_conf)\n",
    "orders_consumer_store_1.assign([TopicPartition(topic, 1)])\n",
    "\n",
    "# Create a centralized billing consumer\n",
    "billion_conf = {**base_conf, 'group.id': 'billion'}\n",
    "billing_consumer = DeserializingConsumer(billion_conf)\n",
    "billing_consumer.assign([TopicPartition(topic, 0), TopicPartition(topic, 1)])\n",
    "\n"
   ]
  },
  {
   "cell_type": "markdown",
   "metadata": {},
   "source": [
    "---\n",
    "## Consume messages to the `pizzaPartitioned` topic"
   ]
  },
  {
   "cell_type": "code",
   "execution_count": 22,
   "metadata": {},
   "outputs": [],
   "source": [
    "from rich.console import Console\n",
    "from rich import print as rprint\n",
    "\n",
    "\n",
    "console = Console()\n",
    "\n",
    "def display_orders(consumer:DeserializingConsumer, label:str, style:str = \"bold\"):\n",
    "    \"\"\"Display the orders from a consumer.\"\"\"\n",
    "    running = True\n",
    "    local_count = 0\n",
    "    while running:\n",
    "        if (msg:=consumer.poll(timeout=3.0)) is None:\n",
    "            continue\n",
    "        elif msg.error():\n",
    "                raise KafkaException(msg.error())\n",
    "        else:\n",
    "            console.print(f\"Checking Partition {label} \\n\" + \"-\"*10, style=style)\n",
    "            console.print(f\"[{style}]{msg.partition()}:{msg.offset()}: {msg.key()}:{msg.value()}[/{style}]\\n\\n\")\n",
    "            if len(consumer.assignment()) > 1:\n",
    "                local_count += 1\n",
    "                if local_count != len(consumer.assignment()):\n",
    "                    continue\n",
    "\n",
    "            running = False\n",
    "\n",
    "display_orders(orders_consumer_store_0, \"Northern Store\", \"bold red\")\n",
    "display_orders(orders_consumer_store_1, \"Southern Store\", \"bold green\")\n",
    "display_orders(billing_consumer, \"Accounts Payable\", \"bold purple\")"
   ]
  }
 ],
 "metadata": {
  "kernelspec": {
   "display_name": "Python 3 (ipykernel)",
   "language": "python",
   "name": "python3"
  },
  "language_info": {
   "codemirror_mode": {
    "name": "ipython",
    "version": 3
   },
   "file_extension": ".py",
   "mimetype": "text/x-python",
   "name": "python",
   "nbconvert_exporter": "python",
   "pygments_lexer": "ipython3",
   "version": "3.12.2"
  }
 },
 "nbformat": 4,
 "nbformat_minor": 4
}
