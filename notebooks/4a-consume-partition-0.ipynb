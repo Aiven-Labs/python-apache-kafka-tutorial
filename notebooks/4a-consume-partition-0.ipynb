{
 "cells": [
  {
   "cell_type": "markdown",
   "metadata": {},
   "source": [
    "# Consume messages from an Apache Kafka partitioned topic\n",
    "\n",
    "In this notebook you will learn how to consume messages to an Apache Kafka topic with two partitions (created with the [dedicated notebook](3-produce-partitioned-topic.ipynb))\n",
    "\n",
    "![Consume messages from an Apache Kafka Topic](../img/consume.png)\n",
    "\n",
    "---\n",
    "\n",
    "## Prerequisites\n",
    "\n",
    "To start the tutorial you need to:\n",
    "\n",
    "* Download the Aiven for Apache Kafka SSL certificates as mentioned in the [README instructions](../README.md#Download-the-required-SSL-certificates)\n",
    "* Retrieve the Aiven for Apache Kafka hostname and port, from the [Aiven Console](https://console.aiven.io/) in the Aiven for Apache Kafka service overview\n",
    "* Substitute the Apache Kafka hostname and port in the parameters below"
   ]
  },
  {
   "cell_type": "code",
   "execution_count": null,
   "metadata": {},
   "outputs": [],
   "source": [
    "# Replace the following two placeholders with Aiven for Apache Kafka service hostname and port\n",
    "\n",
    "hostname=\"<MYKAFKAHOST>\"\n",
    "port=\"<MYKAFKAPORT>\""
   ]
  },
  {
   "cell_type": "markdown",
   "metadata": {},
   "source": [
    "---\n",
    "\n",
    "### Install the required libraries\n",
    "\n",
    "The following installs the [kafka-python library](https://kafka-python.readthedocs.io/en/master/) we'll use for the tutorial"
   ]
  },
  {
   "cell_type": "code",
   "execution_count": null,
   "metadata": {},
   "outputs": [],
   "source": [
    "!pip install kafka-python"
   ]
  },
  {
   "cell_type": "markdown",
   "metadata": {},
   "source": [
    "---\n",
    "\n",
    "## Create an Apache Kafka Consumer\n",
    "\n",
    "The next step is to configure the Kafka Consumer."
   ]
  },
  {
   "cell_type": "code",
   "execution_count": null,
   "metadata": {},
   "outputs": [],
   "source": [
    "import json\n",
    "\n",
    "from confluent_kafka import DeserializingConsumer\n",
    "\n",
    "def json_serializer(msg, s_obj):\n",
    "    return json.loads(msg.decode('ascii'))\n",
    "\n",
    "conf = {\n",
    "    'bootstrap.servers': hostname+\":\"+port,\n",
    "    'client.id': 'myclient',\n",
    "    'group.id': 'pizzaioli',\n",
    "    'security.protocol': 'SSL',\n",
    "    'ssl.ca.location': '../sslcerts/ca.pem',\n",
    "    'ssl.certificate.location': '../sslcerts/service.cert',\n",
    "    'ssl.key.location': '../sslcerts/service.key', \n",
    "    'value.deserializer': json_serializer,\n",
    "    'key.deserializer': json_serializer\n",
    "    }\n",
    "\n",
    "consumer = DeserializingConsumer(conf)"
   ]
  },
  {
   "cell_type": "markdown",
   "metadata": {},
   "source": [
    "---\n",
    "## Consume messages to the `pizzaPartitioned` topic, partition 0"
   ]
  },
  {
   "cell_type": "code",
   "execution_count": null,
   "metadata": {},
   "outputs": [],
   "source": [
    "from confluent_kafka import TopicPartition\n",
    "\n",
    "running = True\n",
    "\n",
    "try:\n",
    "    consumer.assign(\n",
    "    [\n",
    "        TopicPartition(\n",
    "        \"pizzaPartitioned\", \n",
    "        0)\n",
    "    ])\n",
    "\n",
    "    while running:\n",
    "        msg = consumer.poll(timeout=1.0)\n",
    "        if msg is None: continue\n",
    "\n",
    "        if msg.error():\n",
    "            if msg.error().code() == KafkaError._PARTITION_EOF:\n",
    "                # End of partition event\n",
    "                sys.stderr.write('%% %s [%d] reached end at offset %d\\n' %\n",
    "                                 (msg.topic(), msg.partition(), msg.offset()))\n",
    "            elif msg.error():\n",
    "                raise KafkaException(msg.error())\n",
    "        else:\n",
    "            print (\"%d:%d: k=%s v=%s\" % (\n",
    "                msg.partition(),\n",
    "                msg.offset(),\n",
    "                msg.key(),\n",
    "                msg.value()))\n",
    "except KeyboardInterrupt:\n",
    "    print (\"Shutdown requested...exiting\")\n",
    "finally:\n",
    "    # Close down consumer to commit final offsets.\n",
    "    consumer.close() "
   ]
  }
 ],
 "metadata": {
  "kernelspec": {
   "display_name": "Python 3 (ipykernel)",
   "language": "python",
   "name": "python3"
  },
  "language_info": {
   "codemirror_mode": {
    "name": "ipython",
    "version": 3
   },
   "file_extension": ".py",
   "mimetype": "text/x-python",
   "name": "python",
   "nbconvert_exporter": "python",
   "pygments_lexer": "ipython3",
   "version": "3.11.5"
  }
 },
 "nbformat": 4,
 "nbformat_minor": 4
}
