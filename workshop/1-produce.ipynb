{
 "cells": [
  {
   "cell_type": "markdown",
   "metadata": {},
   "source": [
    "# Part 1 - Produce messages to an Apache Kafka topic\n",
    "\n",
    "In this notebook you will learn how to produce messages to an Apache Kafka topic.\n",
    "\n",
    "![Produce messages to an Apache Kafka Topic](../img/1%20-%20single%20kafka%20producer%20python.png)\n",
    "\n",
    "> **📝 NOTE**\n",
    ">\n",
    "> _If you haven't already created and setup your virtual environment, follow the steps from [0-setup.ipynb](0-setup.ipynb)_"
   ]
  },
  {
   "cell_type": "markdown",
   "metadata": {},
   "source": [
    "## Create your `pizzas` topic in Aiven for Apache Kafka®️\n",
    "\n",
    "Apache Kafka® stores messages in groups called Topics. You can have many topics in any one Kafka cluster.\n",
    "\n",
    "We're going to create our topic in the Aiven Console.\n",
    "\n",
    "* In your created Apache Kafka®️ Service, select _Topics_ in the side menu.\n",
    "* Click the **Create Topic** button\n",
    "* Enter `pizzas` and select the **Create Topic** Button\n",
    "\n",
    "> **📝 NOTE**\n",
    "> \n",
    "> Your topic is case sensitive so `pizzas` is different than `Pizzas`\n",
    "\n",
    "* In the Aiven Console for our project, select the **Topics** section in the sidebar.\n",
    "* Select our `Pizzas` topic\n",
    "* Select **Messages**\n",
    "* When prompted to **Enabling Apache Kafka®️ REST**, select **Enable**"
   ]
  },
  {
   "cell_type": "markdown",
   "metadata": {},
   "source": [
    "## Push your first message to the `pizzas` topic\n",
    "\n",
    "Now that we've created our producer, we can send a message our first message to the `pizzas` topic using the `producer.produce()` method.\n",
    "\n",
    "We're going to send a Python dictionary that is serialized into JSON by the producer. This message will have the `id` of the message, the `name` of our individual and the `pizza` that individual likes.\n",
    "\n",
    "Now run the code block below."
   ]
  },
  {
   "cell_type": "code",
   "execution_count": null,
   "metadata": {},
   "outputs": [],
   "source": [
    "# Import python modules to be used in the script\n",
    "import json\n",
    "import os\n",
    "from dotenv import load_dotenv\n",
    "from confluent_kafka import SerializingProducer\n",
    "\n",
    "# Load environment variables and assign them to variables\n",
    "load_dotenv()\n",
    "\n",
    "KAFKA_SERVICE_URI = os.getenv('KAFKA_SERVICE_URI')\n",
    "\n",
    "# Define a function to serialize the message to be sent to the Kafka topic\n",
    "def json_serializer(msg, s_obj):\n",
    "    return json.dumps(msg).encode('ascii')\n",
    "\n",
    "# Define the configuration for the Kafka producer and create the producer object   \n",
    "conf = {\n",
    "    'bootstrap.servers': KAFKA_SERVICE_URI,\n",
    "    'client.id': 'myclient',\n",
    "    'security.protocol': 'SSL',\n",
    "    'ssl.ca.location': '../sslcerts/ca.pem',\n",
    "    'ssl.certificate.location': '../sslcerts/service.cert',\n",
    "    'ssl.key.location': '../sslcerts/service.key', \n",
    "    'value.serializer': json_serializer,\n",
    "    'key.serializer': json_serializer\n",
    "    }\n",
    "\n",
    "producer = SerializingProducer(conf)\n",
    "\n",
    "# Send the first message to the Kafka topic\n",
    "producer.produce(\n",
    "    \"pizzas\",\n",
    "    key={\"id\":1},\n",
    "    value={\"id\":1, \"name\":\"👨 Francesco\", \"pizza\":\"Margherita 🍕\"}\n",
    ")\n",
    "\n",
    "producer.flush() # ensures the message is sent to our Kafka Cluster"
   ]
  },
  {
   "cell_type": "markdown",
   "metadata": {},
   "source": [
    "---\n",
    "\n",
    "## Your Turn! Produce more messages\n",
    "\n",
    "Try creating your own topics. Make sure that you increment the key and id\n"
   ]
  },
  {
   "cell_type": "code",
   "execution_count": null,
   "metadata": {},
   "outputs": [],
   "source": [
    "producer.produce(\n",
    "    \"pizzas\",\n",
    "    key={\"id\":2},\n",
    "    value={\"id\":2, \"name\":\"👩 Adele\", \"pizza\":\"Hawaii 🍕+🍍+🥓\"}\n",
    ")\n",
    "\n",
    "producer.produce(\n",
    "    \"pizzas\",\n",
    "    key={\"id\":3},\n",
    "    value={\"id\":3, \"name\":\"👦 Jay\", \"pizza\":\"Pepperoni 🍕\"}\n",
    ")\n",
    "\n",
    "\n",
    "producer.flush()"
   ]
  },
  {
   "cell_type": "markdown",
   "metadata": {},
   "source": [
    "> **📝 NOTE**\n",
    "> We'll need to produce more messages **While the consumer is running** so leave this notebook open\n",
    "\n",
    "## Great Work! 🥳\n",
    "\n",
    "We used Python to produce the messages. \n",
    "\n",
    "We're currently using the Aiven Console to consume these messages but we can use Python to do the same.\n",
    "\n",
    "#### Select the button to continue\n",
    "\n",
    "[![Consuming Messages](https://img.shields.io/badge/2-Consuming%20Messages%20With%20Python-a03586?style=for-the-badge&labelColor=ec6147)](./2-consume.ipynb)"
   ]
  }
 ],
 "metadata": {
  "kernelspec": {
   "display_name": "Python 3 (ipykernel)",
   "language": "python",
   "name": "python3"
  },
  "language_info": {
   "codemirror_mode": {
    "name": "ipython",
    "version": 3
   },
   "file_extension": ".py",
   "mimetype": "text/x-python",
   "name": "python",
   "nbconvert_exporter": "python",
   "pygments_lexer": "ipython3",
   "version": "3.12.2"
  }
 },
 "nbformat": 4,
 "nbformat_minor": 4
}
