{
 "cells": [
  {
   "cell_type": "markdown",
   "metadata": {},
   "source": [
    "# Part 2 - Consume messages from an Aiven for Apache Kafka®️ topic\n",
    "\n",
    "In the previous notebook you learned how to create producers with Python and send messages to our `pizzas` topic.\n",
    "\n",
    "In this notebook you will learn how to consume messages using Kafka.\n",
    "\n",
    "![Consume messages from an Apache Kafka Topic](../img/2%20-%20single%20kafka%20consumer%20python.png)"
   ]
  },
  {
   "cell_type": "markdown",
   "metadata": {},
   "source": [
    "> **📝 NOTE**\n",
    ">\n",
    "> _If you haven't already created and setup your virtual environment, follow the steps from [0-setup.ipynb](0-setup.ipynb)_"
   ]
  },
  {
   "cell_type": "markdown",
   "metadata": {},
   "source": [
    "## Create an Apache Kafka®️ consumer\n",
    "\n",
    "The next step is to configure the Kafka consumer and have it run while we produce messages."
   ]
  },
  {
   "cell_type": "code",
   "execution_count": null,
   "metadata": {},
   "outputs": [],
   "source": [
    "# Import Python Modules\n",
    "import json\n",
    "import os\n",
    "\n",
    "from confluent_kafka import DeserializingConsumer, KafkaError, KafkaException\n",
    "from rich.console import Console\n",
    "from dotenv import load_dotenv\n",
    "\n",
    "# Load environment variables\n",
    "load_dotenv()\n",
    "\n",
    "KAFKA_SERVICE_URI = os.getenv(\"KAFKA_SERVICE_URI\")\n",
    "\n",
    "\n",
    "def json_deserializer(msg, s_obj):\n",
    "    return json.loads(msg.decode('ascii'))\n",
    "\n",
    "conf = {\n",
    "    'bootstrap.servers': KAFKA_SERVICE_URI,\n",
    "    'client.id': 'myclient',\n",
    "    'group.id': 'pizzaioli',\n",
    "    'security.protocol': 'SSL',\n",
    "    'ssl.ca.location': '../sslcerts/ca.pem',\n",
    "    'ssl.certificate.location': '../sslcerts/service.cert',\n",
    "    'ssl.key.location': '../sslcerts/service.key', \n",
    "    'value.deserializer': json_deserializer,\n",
    "    'key.deserializer': json_deserializer\n",
    "    }\n",
    "\n",
    "consumer = DeserializingConsumer(conf)\n",
    " "
   ]
  },
  {
   "cell_type": "markdown",
   "metadata": {},
   "source": [
    "Now that we've created our consumer object we're going to now consume messages."
   ]
  },
  {
   "cell_type": "code",
   "execution_count": null,
   "metadata": {},
   "outputs": [],
   "source": [
    "console = Console()\n",
    "\n",
    "finished = False\n",
    "local_count = 0\n",
    "\n",
    "consumer.subscribe([\"pizzas\"])\n",
    "with console.status(\"Please run the last Python block in 1-produce.ipynb\"):\n",
    "    while not finished:\n",
    "        if (msg:=consumer.poll(timeout=1.0)) is None:\n",
    "            continue\n",
    "        elif msg.error():\n",
    "                raise KafkaException(msg.error())\n",
    "        else:\n",
    "            console.print(f\"{msg.offset()}: {msg.key()}:{msg.value()}\\n\\n\")\n",
    "            local_count += 1\n",
    "            finished = local_count == 2\n"
   ]
  },
  {
   "cell_type": "code",
   "execution_count": null,
   "metadata": {},
   "outputs": [],
   "source": [
    "# Finally close the consumer to discontinue\n",
    "\n",
    "consumer.close()   "
   ]
  },
  {
   "cell_type": "markdown",
   "metadata": {},
   "source": [
    "### Good Job 💪\n",
    "\n",
    "In this notebook, we consumed our messages using Python.\n",
    "\n",
    "In the next notebook, we'll learn about creating topic partitions and sending messages to different partitions.\n",
    "\n",
    "Move onto the [next notebook](3-produce-partitioned-topic.ipynb) or select the button below to continue.\n",
    "\n",
    "[![Consuming Messages](https://img.shields.io/badge/3-Producing%20Topic%20Partitions-a03586?style=for-the-badge&labelColor=ec6147)](3-produce-partitioned-topic.ipynb)"
   ]
  }
 ],
 "metadata": {
  "kernelspec": {
   "display_name": "Python 3 (ipykernel)",
   "language": "python",
   "name": "python3"
  },
  "language_info": {
   "codemirror_mode": {
    "name": "ipython",
    "version": 3
   },
   "file_extension": ".py",
   "mimetype": "text/x-python",
   "name": "python",
   "nbconvert_exporter": "python",
   "pygments_lexer": "ipython3",
   "version": "3.12.2"
  }
 },
 "nbformat": 4,
 "nbformat_minor": 4
}
