{
 "cells": [
  {
   "cell_type": "markdown",
   "metadata": {},
   "source": [
    "# Congratulations\n",
    " \n",
    "Through these notebooks you've\n",
    "\n",
    "* Setup an Aiven for Apache Kafka®️ cluster and Aiven for Apache Flink®️\n",
    "* Produced and Consumed Messages from you cluster using Python\n",
    "* Created and Consumed Partitioned Messages\n",
    "* Created Consumer groups to combine and split messages based on your preference\n",
    "* And Finally filter messages based on queries in Aiven for Apache Flink®️\n",
    "\n",
    "## Shut Down Your Services\n",
    "\n",
    "To make sure that you aren't burning through your trial we should shut down our services.\n",
    "\n",
    "1. In the Aiven Console, visit the services section of your created project.\n",
    "2. For each service select the action icon and select \"Power off service\"\n",
    "3. To power off your codespace, go back to the repository at https://github.com/Aiven-Labs/python-apache-kafka-tutorial/, select the green \"<> Code\" button and delete your codespace.\n",
    "\n",
    "![Power Off Services](../img/console_power_off_service.png)"
   ]
  }
 ],
 "metadata": {
  "language_info": {
   "name": "python"
  }
 },
 "nbformat": 4,
 "nbformat_minor": 2
}
