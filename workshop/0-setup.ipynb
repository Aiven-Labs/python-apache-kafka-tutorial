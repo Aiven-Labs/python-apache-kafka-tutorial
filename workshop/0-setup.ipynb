{
 "cells": [
  {
   "cell_type": "markdown",
   "metadata": {},
   "source": [
    "## Create an Aiven Account\n",
    "\n",
    "If haven't created an account, you can create a free trial with <https://go.aiven.io/ft-signup-kafka-python>, using the free trial. \n",
    "\n",
    "### Create an Aiven for Apache Kafka®️ Service\n",
    "\n",
    "Next we'll create our Apache Kafka Cluster:\n",
    "\n",
    "* Open the [Aiven Console](https://console.aiven.io)\n",
    "* Click on **Create service**\n",
    "* Select **Apache Kafka®️**\n",
    "* Select the cloud vendor and region of your choice\n",
    "* Select a **Business-4** plan would be enough\n",
    "* Click on **Create service**\n",
    "\n",
    "### Download the required SSL certificates\n",
    "\n",
    "The SSL certificates are used to securely connect the Python clients and the Apache Kafka cluster. To download them:\n",
    "\n",
    "* In the [Aiven Console](https://console.aiven.io), navigate to the Aiven for Apache Kafka cluster created\n",
    "* Download the:\n",
    "    * Access Key\n",
    "    * Access Certificate\n",
    "    * CA Certificate\n",
    "\n",
    "![Download Certificates](../img/download-certificates.png)\n",
    "\n",
    "Once downloaded the certificates, you can move them in the [sslcerts](sslcerts) folder.\n",
    "\n",
    "### Create the Aiven for Apache Flink®️ Service\n",
    "\n",
    "* Clicking on **Create service**\n",
    "* Selecting **Apache Flink®️**\n",
    "* Selecting the cloud vendor and region\n",
    "* Selecting the plan (a **Business-4** plan would be enough)\n",
    "* Clicking on **Create service**\n",
    "\n",
    "After a couple of minutes, the Aiven for Apache Kafka service will be ready to use."
   ]
  },
  {
   "cell_type": "markdown",
   "metadata": {},
   "source": [
    "## Copy the **Service URI** into a `.env` file\n",
    "\n",
    "This is how our notebooks will connect to our environment.\n",
    "\n",
    "Copy the **SERVICE_URI** from the **Connection Information**\n",
    "\n",
    "![SERVICE_URI](../img/kafka-service-uri.png)\n",
    "\n",
    "Replace <KAFKA_SERVICE_URI> in the block below and run the block to create your .env file"
   ]
  },
  {
   "cell_type": "code",
   "execution_count": 10,
   "metadata": {
    "vscode": {
     "languageId": "shellscript"
    }
   },
   "outputs": [],
   "source": [
    "!echo KAFKA_SERVICE_URI=<REPLACE_WITH_YOUR_URI> > .env"
   ]
  },
  {
   "cell_type": "markdown",
   "metadata": {},
   "source": [
    "You are now ready to move to the next notebook where we'll [_produce messages using Python_](1-produce.ipynb)"
   ]
  }
 ],
 "metadata": {
  "kernelspec": {
   "display_name": "Python 3",
   "language": "python",
   "name": "python3"
  },
  "language_info": {
   "codemirror_mode": {
    "name": "ipython",
    "version": 3
   },
   "file_extension": ".py",
   "mimetype": "text/x-python",
   "name": "python",
   "nbconvert_exporter": "python",
   "pygments_lexer": "ipython3",
   "version": "3.12.2"
  }
 },
 "nbformat": 4,
 "nbformat_minor": 2
}
